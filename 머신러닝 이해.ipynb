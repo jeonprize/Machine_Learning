{
 "cells": [
  {
   "cell_type": "markdown",
   "metadata": {},
   "source": [
    "# 1장 파이썬 머신러닝 이해  \n",
    "\n",
    "\n",
    "\n",
    "[머신러닝 완벽 가이드] 책을 기반으로 제가 정리하고 요약한 내용입니다.  \n",
    "1장은 머신러닝의 기초인 넘파이와 판다스에 대한 개념입니다."
   ]
  },
  {
   "cell_type": "markdown",
   "metadata": {},
   "source": [
    "## 넘파이\n",
    "넘파이는 배열 기반의 연산은 물론이고 다양한 데이터 핸들링 기능을 제공합니다."
   ]
  },
  {
   "cell_type": "code",
   "execution_count": 1,
   "metadata": {},
   "outputs": [],
   "source": [
    "import numpy as np # 넘파이 모듈 임포트"
   ]
  },
  {
   "cell_type": "markdown",
   "metadata": {},
   "source": [
    "### ndarray 데이터 타입"
   ]
  },
  {
   "cell_type": "code",
   "execution_count": 2,
   "metadata": {},
   "outputs": [
    {
     "name": "stdout",
     "output_type": "stream",
     "text": [
      "array1 type: <class 'numpy.ndarray'>\n",
      "array1 type 형태: (3,)\n",
      "array2 type: <class 'numpy.ndarray'>\n",
      "array2 type 형태: (2, 3)\n"
     ]
    }
   ],
   "source": [
    "array1 = np.array([1,2,3]) \n",
    "# 넘파이의 array()함수는 파이썬의 리스트와 같은 인자를 ndarray로 변환하는 기능 수행\n",
    "print('array1 type:',type(array1))\n",
    "print('array1 type 형태:',array1.shape)\n",
    "\n",
    "array2 = np.array([[1,2,3],\n",
    "                   [4,5,6]])\n",
    "print('array2 type:',type(array2))\n",
    "print('array2 type 형태:',array2.shape)"
   ]
  },
  {
   "cell_type": "code",
   "execution_count": 3,
   "metadata": {},
   "outputs": [
    {
     "name": "stdout",
     "output_type": "stream",
     "text": [
      "<class 'list'>\n",
      "<class 'numpy.ndarray'>\n",
      "int32\n"
     ]
    }
   ],
   "source": [
    "list1 = [1,2,3]\n",
    "print(type(list1))\n",
    "array1 = np.array(list1)\n",
    "print(type(array1))\n",
    "print(array1.dtype) #ndarray내의 데이터타입은 .dtype 으로 확인 가능"
   ]
  },
  {
   "cell_type": "code",
   "execution_count": 4,
   "metadata": {},
   "outputs": [
    {
     "name": "stdout",
     "output_type": "stream",
     "text": [
      "<U11\n",
      "float64\n"
     ]
    }
   ],
   "source": [
    "list2 = [1,2,'test']\n",
    "array2 = np.array(list2)\n",
    "print(array2.dtype)\n",
    "\n",
    "list3 = [1,2,3.1]\n",
    "array3 = np.array(list3)\n",
    "print(array3.dtype) "
   ]
  },
  {
   "cell_type": "markdown",
   "metadata": {},
   "source": [
    "다른 데이터 유형이 ndarray로 변경되면 데이터 크기가 더 큰 데이터 타입으로 형 변환이 적용됩니다."
   ]
  },
  {
   "cell_type": "code",
   "execution_count": 5,
   "metadata": {},
   "outputs": [
    {
     "name": "stdout",
     "output_type": "stream",
     "text": [
      "int32\n",
      "float64\n"
     ]
    }
   ],
   "source": [
    "list3 = [1, 2, 3]\n",
    "array4 =np.array(list3)\n",
    "print(array4.dtype)\n",
    "array4 =array4.astype(float)\n",
    "print(array4.dtype)"
   ]
  },
  {
   "cell_type": "markdown",
   "metadata": {},
   "source": [
    "ndarray 내 데이터값의 타입 변경은 astype()을 이용해 가능합니다."
   ]
  },
  {
   "cell_type": "markdown",
   "metadata": {},
   "source": [
    "### ndarray 생성"
   ]
  },
  {
   "cell_type": "code",
   "execution_count": 6,
   "metadata": {},
   "outputs": [
    {
     "name": "stdout",
     "output_type": "stream",
     "text": [
      "[0 1 2 3 4 5 6 7 8 9]\n",
      "int32\n",
      "(10,)\n"
     ]
    }
   ],
   "source": [
    "arange = np.arange(10)\n",
    "print(arange)\n",
    "print(arange.dtype)\n",
    "print(arange.shape)"
   ]
  },
  {
   "cell_type": "markdown",
   "metadata": {},
   "source": [
    "arange()는 0부터 함수 인자 값 -1까지의 값을 순차적으로 ndarray의 데이터값으로 변환해줍니다.  \n",
    "start, stop을 지정해서 원하는 값부터 시작한 연속 값을 부여할 수 있습니다."
   ]
  },
  {
   "cell_type": "code",
   "execution_count": 7,
   "metadata": {},
   "outputs": [
    {
     "name": "stdout",
     "output_type": "stream",
     "text": [
      "[[0. 0.]\n",
      " [0. 0.]\n",
      " [0. 0.]]\n",
      "float64\n",
      "(3, 2)\n"
     ]
    }
   ],
   "source": [
    "zeros = np.zeros((3,2))\n",
    "print(zeros)\n",
    "print(zeros.dtype)\n",
    "print(zeros.shape)"
   ]
  },
  {
   "cell_type": "markdown",
   "metadata": {},
   "source": [
    "zeros()는 함수 인자로 튜플 형태의 shape값을 입력하면 모든 값을 0으로 채운 해당 shape를 가진 ndarray를 반환합니다. 이와 유사하게 ones()는 모든 값을 1로 채운 ndarray를 반환합니다. default는 float입니다."
   ]
  },
  {
   "cell_type": "code",
   "execution_count": 8,
   "metadata": {},
   "outputs": [
    {
     "name": "stdout",
     "output_type": "stream",
     "text": [
      "[0 1 2 3 4 5 6 7 8 9]\n",
      "[[0 1 2 3 4]\n",
      " [5 6 7 8 9]]\n",
      "[[0 1]\n",
      " [2 3]\n",
      " [4 5]\n",
      " [6 7]\n",
      " [8 9]]\n"
     ]
    }
   ],
   "source": [
    "arange = np.arange(10)\n",
    "print(arange)\n",
    "print(arange.reshape(2,5))\n",
    "print(arange.reshape(5,-1))"
   ]
  },
  {
   "cell_type": "markdown",
   "metadata": {},
   "source": [
    "reshape()는 원하는 형태의 ndarray로 변환해주며, 지정된 사이즈로 변경이 불가능하면 오류가 발생합니다.  \n",
    "-1를 인자로 사용하면 원래 ndarray와 호환되는 새로운 shape로 변환해줍니다."
   ]
  },
  {
   "cell_type": "markdown",
   "metadata": {},
   "source": [
    "### ndarray 데이터 세트 선택 - 인덱싱"
   ]
  },
  {
   "cell_type": "code",
   "execution_count": null,
   "metadata": {},
   "outputs": [],
   "source": []
  }
 ],
 "metadata": {
  "kernelspec": {
   "display_name": "Python 3",
   "language": "python",
   "name": "python3"
  },
  "language_info": {
   "codemirror_mode": {
    "name": "ipython",
    "version": 3
   },
   "file_extension": ".py",
   "mimetype": "text/x-python",
   "name": "python",
   "nbconvert_exporter": "python",
   "pygments_lexer": "ipython3",
   "version": "3.7.4"
  },
  "toc": {
   "base_numbering": 1,
   "nav_menu": {},
   "number_sections": true,
   "sideBar": true,
   "skip_h1_title": false,
   "title_cell": "Table of Contents",
   "title_sidebar": "Contents",
   "toc_cell": false,
   "toc_position": {},
   "toc_section_display": true,
   "toc_window_display": false
  },
  "varInspector": {
   "cols": {
    "lenName": 16,
    "lenType": 16,
    "lenVar": 40
   },
   "kernels_config": {
    "python": {
     "delete_cmd_postfix": "",
     "delete_cmd_prefix": "del ",
     "library": "var_list.py",
     "varRefreshCmd": "print(var_dic_list())"
    },
    "r": {
     "delete_cmd_postfix": ") ",
     "delete_cmd_prefix": "rm(",
     "library": "var_list.r",
     "varRefreshCmd": "cat(var_dic_list()) "
    }
   },
   "types_to_exclude": [
    "module",
    "function",
    "builtin_function_or_method",
    "instance",
    "_Feature"
   ],
   "window_display": false
  }
 },
 "nbformat": 4,
 "nbformat_minor": 2
}
